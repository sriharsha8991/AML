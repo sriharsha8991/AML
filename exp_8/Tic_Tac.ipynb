{
  "cells": [
    {
      "cell_type": "code",
      "execution_count": null,
      "id": "f44b748b-ce14-4a27-946f-46e1f6d8b085",
      "metadata": {
        "id": "f44b748b-ce14-4a27-946f-46e1f6d8b085",
        "outputId": "80fb9bbe-9b60-45cb-e316-dc3f8f730d10"
      },
      "outputs": [
        {
          "name": "stdout",
          "output_type": "stream",
          "text": [
            "Player O turn\n",
            "- - - \n",
            "- - - \n",
            "- - - \n"
          ]
        },
        {
          "name": "stdin",
          "output_type": "stream",
          "text": [
            "Enter row and column numbers to fix spot:  2 2\n"
          ]
        },
        {
          "name": "stdout",
          "output_type": "stream",
          "text": [
            "\n",
            "Player X turn\n",
            "- - - \n",
            "- O - \n",
            "- - - \n"
          ]
        },
        {
          "name": "stdin",
          "output_type": "stream",
          "text": [
            "Enter row and column numbers to fix spot:  1 3\n"
          ]
        },
        {
          "name": "stdout",
          "output_type": "stream",
          "text": [
            "\n",
            "Player O turn\n",
            "- - X \n",
            "- O - \n",
            "- - - \n"
          ]
        },
        {
          "name": "stdin",
          "output_type": "stream",
          "text": [
            "Enter row and column numbers to fix spot:  1 1\n"
          ]
        },
        {
          "name": "stdout",
          "output_type": "stream",
          "text": [
            "\n",
            "Player X turn\n",
            "O - X \n",
            "- O - \n",
            "- - - \n"
          ]
        },
        {
          "name": "stdin",
          "output_type": "stream",
          "text": [
            "Enter row and column numbers to fix spot:  3 3\n"
          ]
        },
        {
          "name": "stdout",
          "output_type": "stream",
          "text": [
            "\n",
            "Player O turn\n",
            "O - X \n",
            "- O - \n",
            "- - X \n"
          ]
        },
        {
          "name": "stdin",
          "output_type": "stream",
          "text": [
            "Enter row and column numbers to fix spot:  2 3\n"
          ]
        },
        {
          "name": "stdout",
          "output_type": "stream",
          "text": [
            "\n",
            "Player X turn\n",
            "O - X \n",
            "- O O \n",
            "- - X \n"
          ]
        },
        {
          "name": "stdin",
          "output_type": "stream",
          "text": [
            "Enter row and column numbers to fix spot:  3 1\n"
          ]
        },
        {
          "name": "stdout",
          "output_type": "stream",
          "text": [
            "\n",
            "Player O turn\n",
            "O - X \n",
            "- O O \n",
            "X - X \n"
          ]
        },
        {
          "name": "stdin",
          "output_type": "stream",
          "text": [
            "Enter row and column numbers to fix spot:  2 1\n"
          ]
        },
        {
          "name": "stdout",
          "output_type": "stream",
          "text": [
            "\n",
            "Player O wins the game!\n",
            "\n",
            "O - X \n",
            "O O O \n",
            "X - X \n"
          ]
        }
      ],
      "source": [
        "import random\n",
        "\n",
        "\n",
        "class TicTacToe:\n",
        "\n",
        "    def __init__(self):\n",
        "        self.board = []\n",
        "\n",
        "    def create_board(self):\n",
        "        for i in range(3):\n",
        "            row = []\n",
        "            for j in range(3):\n",
        "                row.append('-')\n",
        "            self.board.append(row)\n",
        "\n",
        "    def get_random_first_player(self):\n",
        "        return random.randint(0, 1)\n",
        "\n",
        "    def fix_spot(self, row, col, player):\n",
        "        self.board[row][col] = player\n",
        "\n",
        "    def is_player_win(self, player):\n",
        "        win = None\n",
        "\n",
        "        n = len(self.board)\n",
        "\n",
        "        # checking rows\n",
        "        for i in range(n):\n",
        "            win = True\n",
        "            for j in range(n):\n",
        "                if self.board[i][j] != player:\n",
        "                    win = False\n",
        "                    break\n",
        "            if win:\n",
        "                return win\n",
        "\n",
        "        # checking columns\n",
        "        for i in range(n):\n",
        "            win = True\n",
        "            for j in range(n):\n",
        "                if self.board[j][i] != player:\n",
        "                    win = False\n",
        "                    break\n",
        "            if win:\n",
        "                return win\n",
        "\n",
        "        # checking diagonals\n",
        "        win = True\n",
        "        for i in range(n):\n",
        "            if self.board[i][i] != player:\n",
        "                win = False\n",
        "                break\n",
        "        if win:\n",
        "            return win\n",
        "\n",
        "        win = True\n",
        "        for i in range(n):\n",
        "            if self.board[i][n - 1 - i] != player:\n",
        "                win = False\n",
        "                break\n",
        "        if win:\n",
        "            return win\n",
        "        return False\n",
        "\n",
        "        for row in self.board:\n",
        "            for item in row:\n",
        "                if item == '-':\n",
        "                    return False\n",
        "        return True\n",
        "\n",
        "    def is_board_filled(self):\n",
        "        for row in self.board:\n",
        "            for item in row:\n",
        "                if item == '-':\n",
        "                    return False\n",
        "        return True\n",
        "\n",
        "    def swap_player_turn(self, player):\n",
        "        return 'X' if player == 'O' else 'O'\n",
        "\n",
        "    def show_board(self):\n",
        "        for row in self.board:\n",
        "            for item in row:\n",
        "                print(item, end=\" \")\n",
        "            print()\n",
        "\n",
        "    def start(self):\n",
        "        self.create_board()\n",
        "\n",
        "        player = 'X' if self.get_random_first_player() == 1 else 'O'\n",
        "        while True:\n",
        "            print(f\"Player {player} turn\")\n",
        "\n",
        "            self.show_board()\n",
        "\n",
        "            # taking user input\n",
        "            row, col = list(\n",
        "                map(int, input(\"Enter row and column numbers to fix spot: \").split()))\n",
        "            print()\n",
        "\n",
        "            # fixing the spot\n",
        "            self.fix_spot(row - 1, col - 1, player)\n",
        "\n",
        "            # checking whether current player is won or not\n",
        "            if self.is_player_win(player):\n",
        "                print(f\"Player {player} wins the game!\")\n",
        "                break\n",
        "\n",
        "            # checking whether the game is draw or not\n",
        "            if self.is_board_filled():\n",
        "                print(\"Match Draw!\")\n",
        "                break\n",
        "\n",
        "            # swapping the turn\n",
        "            player = self.swap_player_turn(player)\n",
        "\n",
        "        # showing the final view of board\n",
        "        print()\n",
        "        self.show_board()\n",
        "\n",
        "\n",
        "# starting the game\n",
        "tic_tac_toe = TicTacToe()\n",
        "tic_tac_toe.start()"
      ]
    },
    {
      "cell_type": "code",
      "source": [],
      "metadata": {
        "id": "U451nMAPGhgT"
      },
      "id": "U451nMAPGhgT",
      "execution_count": null,
      "outputs": []
    },
    {
      "cell_type": "code",
      "execution_count": null,
      "id": "3d3e9e89-7022-401a-8005-70bb97142ac2",
      "metadata": {
        "id": "3d3e9e89-7022-401a-8005-70bb97142ac2"
      },
      "outputs": [],
      "source": []
    }
  ],
  "metadata": {
    "kernelspec": {
      "display_name": "Python 3 (ipykernel)",
      "language": "python",
      "name": "python3"
    },
    "language_info": {
      "codemirror_mode": {
        "name": "ipython",
        "version": 3
      },
      "file_extension": ".py",
      "mimetype": "text/x-python",
      "name": "python",
      "nbconvert_exporter": "python",
      "pygments_lexer": "ipython3",
      "version": "3.9.12"
    },
    "colab": {
      "provenance": []
    }
  },
  "nbformat": 4,
  "nbformat_minor": 5
}
