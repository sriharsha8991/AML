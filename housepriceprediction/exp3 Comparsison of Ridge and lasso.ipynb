{
 "cells": [
  {
   "cell_type": "markdown",
   "id": "f936c431",
   "metadata": {},
   "source": [
    "> **R2_Score**\n",
    "\n",
    "**Ridge : 0.87**\n",
    "\n",
    "**Lasso : 0.812**\n",
    "\n",
    "In general, a higher R2 score indicates better model performance. However, when comparing the R2 score between Ridge and Lasso regression, it's important to note that Ridge regression tends to perform better when the number of predictors is high, while Lasso regression tends to perform better when there are only a few predictors that have a strong impact on the target variable"
   ]
  },
  {
   "cell_type": "markdown",
   "id": "097ff946",
   "metadata": {},
   "source": [
    "> #### Comparision\n",
    "\n",
    "* Ridge and Lasso both the models have almost same test and train accuracy. So it can be said that there is no overfitting.\n",
    "\n",
    "* Lasso and Ridge both have similar r2 score and MAE on test dataset. But Lasso has eliminated 110 features and final no. of features in Lasso Regression model is 86. \n",
    "\n",
    "* Where - Ridge has all 226 features. So, our Lasso model is simpler than Ridge with having similar r2 score and MAE. \n",
    "\n",
    "* **Ridge Regression model on test dataset: r2 score= 0.8712, MAE= 0.0934, RMSE= 0.1357**\n",
    "\n",
    "* **Lasso Regression model on test dataset: r2 score= 0.8127, MAE= 0.1914, RMSE= 0.1835**"
   ]
  }
 ],
 "metadata": {
  "kernelspec": {
   "display_name": "Python 3",
   "language": "python",
   "name": "python3"
  },
  "language_info": {
   "codemirror_mode": {
    "name": "ipython",
    "version": 3
   },
   "file_extension": ".py",
   "mimetype": "text/x-python",
   "name": "python",
   "nbconvert_exporter": "python",
   "pygments_lexer": "ipython3",
   "version": "3.8.8"
  }
 },
 "nbformat": 4,
 "nbformat_minor": 5
}
