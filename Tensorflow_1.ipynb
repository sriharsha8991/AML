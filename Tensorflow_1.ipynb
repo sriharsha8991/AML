{
 "cells": [
  {
   "cell_type": "markdown",
   "id": "c573ce92-ba77-4197-b020-e9f09429f995",
   "metadata": {},
   "source": [
    "### IMPORTING TENSORFLOW"
   ]
  },
  {
   "cell_type": "code",
   "execution_count": 26,
   "id": "be7bec2a-3eac-462e-b580-0ee2509d3cf7",
   "metadata": {},
   "outputs": [
    {
     "name": "stdout",
     "output_type": "stream",
     "text": [
      "Tensorflow Version 2.11.0\n"
     ]
    }
   ],
   "source": [
    "import tensorflow as tf\n",
    "print(\"Tensorflow Version\",tf.__version__)"
   ]
  },
  {
   "cell_type": "markdown",
   "id": "6d610d0a-f8c4-4293-a645-518877304ef6",
   "metadata": {},
   "source": [
    "## MNIST DATA SET LOADING"
   ]
  },
  {
   "cell_type": "markdown",
   "id": "9fabcb4e-23ed-4baf-83e4-2383b9d74022",
   "metadata": {},
   "source": [
    "##### Description about the data set\n",
    "\n",
    "Load and prepare the MNIST dataset. The pixel values of the images range from 0 through 255. Scale these values to a range of 0 to 1 by dividing the values by 255.0. This also converts the sample data from integers to floating-point numbers"
   ]
  },
  {
   "cell_type": "code",
   "execution_count": 27,
   "id": "6b0788b5-782f-43df-8910-21d33fc015f3",
   "metadata": {},
   "outputs": [],
   "source": [
    "mnist = tf.keras.datasets.mnist"
   ]
  },
  {
   "cell_type": "code",
   "execution_count": null,
   "id": "cdd6768b-9fb1-4494-aaa5-fe53f3e0a739",
   "metadata": {},
   "outputs": [],
   "source": []
  },
  {
   "cell_type": "code",
   "execution_count": 28,
   "id": "453c98a6-3bf1-4048-91e7-22b44095ed06",
   "metadata": {},
   "outputs": [
    {
     "data": {
      "text/plain": [
       "module"
      ]
     },
     "execution_count": 28,
     "metadata": {},
     "output_type": "execute_result"
    }
   ],
   "source": [
    "type(mnist)"
   ]
  },
  {
   "cell_type": "code",
   "execution_count": 29,
   "id": "1c42d35a-3c56-40fe-b5f0-65f971f04413",
   "metadata": {},
   "outputs": [],
   "source": [
    "(trainx,trainy),(testx,testy) = mnist.load_data()\n"
   ]
  },
  {
   "cell_type": "code",
   "execution_count": 38,
   "id": "b11a3c75-e2be-4f9e-9662-1bd15d926471",
   "metadata": {},
   "outputs": [],
   "source": [
    "trainx,testx = trainx/255.0,testx/255.0"
   ]
  },
  {
   "cell_type": "markdown",
   "id": "7c22dbd1-8b84-460b-8426-24e719c503c1",
   "metadata": {},
   "source": [
    "## Building a Machine Learning model using Sequential"
   ]
  },
  {
   "cell_type": "code",
   "execution_count": 39,
   "id": "0c7534a2-9521-4777-948a-0311a501ba82",
   "metadata": {},
   "outputs": [],
   "source": [
    "model = tf.keras.models.Sequential([\n",
    "    tf.keras.layers.Flatten(input_shape=(28,28)),\n",
    "    tf.keras.layers.Dense(128,activation='relu'),\n",
    "    tf.keras.layers.Dropout(0.2),\n",
    "    tf.keras.layers.Dense(10)\n",
    "])"
   ]
  },
  {
   "cell_type": "markdown",
   "id": "53e1d2d0-e8f0-4ab5-99b5-6e4fb0998fd6",
   "metadata": {},
   "source": [
    "**Sequential** is useful for stacking layers where each layer has one input tensor and one output tensor. Layers are functions with a known mathematical structure that can be reused and have trainable variables. Most TensorFlow models are composed of layers. This model uses the **Flatten**, **Dense**, and **Dropout** layers."
   ]
  },
  {
   "cell_type": "code",
   "execution_count": 40,
   "id": "4bf0da38-2df5-4c84-b1e4-5c2b1390c764",
   "metadata": {},
   "outputs": [],
   "source": [
    "predictions = model(trainx[:1]).numpy()"
   ]
  },
  {
   "cell_type": "code",
   "execution_count": 41,
   "id": "d14f4a49-f7bd-4ea7-af2e-281b324f01dd",
   "metadata": {},
   "outputs": [
    {
     "data": {
      "text/plain": [
       "array([[-0.36202493, -1.0710831 , -0.26252875, -0.99641556, -0.4666367 ,\n",
       "        -0.09611961, -0.6137866 ,  0.06954546, -0.0423824 ,  0.8096124 ]],\n",
       "      dtype=float32)"
      ]
     },
     "execution_count": 41,
     "metadata": {},
     "output_type": "execute_result"
    }
   ],
   "source": [
    "predictions"
   ]
  },
  {
   "cell_type": "markdown",
   "id": "b74d4c4c-d6cd-49c2-83eb-a43ef542ec14",
   "metadata": {},
   "source": [
    "The tf.nn.softmax function converts these logits to probabilities for each class:"
   ]
  },
  {
   "cell_type": "code",
   "execution_count": 42,
   "id": "d91a76ca-3d12-458d-b82e-f206e3587c5c",
   "metadata": {},
   "outputs": [
    {
     "data": {
      "text/plain": [
       "array([[0.08161082, 0.0401613 , 0.09014848, 0.04327483, 0.07350475,\n",
       "        0.10647041, 0.0634467 , 0.12565401, 0.11234836, 0.26338035]],\n",
       "      dtype=float32)"
      ]
     },
     "execution_count": 42,
     "metadata": {},
     "output_type": "execute_result"
    }
   ],
   "source": [
    "tf.nn.softmax(predictions).numpy()"
   ]
  },
  {
   "cell_type": "markdown",
   "id": "e06702e7-51b3-40bc-8c18-9ae9aadc0081",
   "metadata": {},
   "source": [
    "### Loss Function for training "
   ]
  },
  {
   "cell_type": "code",
   "execution_count": 43,
   "id": "51d972d4-bd2a-40cd-a008-9e719a6aa358",
   "metadata": {},
   "outputs": [],
   "source": [
    "loss_fn = tf.keras.losses.SparseCategoricalCrossentropy(from_logits=True)"
   ]
  },
  {
   "cell_type": "markdown",
   "id": "74b69e86-10a4-434d-a691-429f71d1a2fd",
   "metadata": {},
   "source": [
    "The loss function takes a vector of ground truth values and a vector of logits and returns a scalar loss for each example. This loss is equal to the negative log probability of the true class: The loss is zero if the model is sure of the correct class.\n",
    "\n",
    "This untrained model gives probabilities close to random (1/10 for each class), so the initial loss should be close to -tf.math.log(1/10) ~= 2.3."
   ]
  },
  {
   "cell_type": "code",
   "execution_count": 45,
   "id": "ec225e52-540c-4083-8afe-2fcf09e39907",
   "metadata": {},
   "outputs": [
    {
     "data": {
      "text/plain": [
       "2.2398882"
      ]
     },
     "execution_count": 45,
     "metadata": {},
     "output_type": "execute_result"
    }
   ],
   "source": [
    "loss_fn(trainy[:1],predictions).numpy()"
   ]
  },
  {
   "cell_type": "markdown",
   "id": "ff9d4bdf-18f2-4df6-830f-fbc5408b4b00",
   "metadata": {},
   "source": [
    "## Configuring amd compiling Using Keras"
   ]
  },
  {
   "cell_type": "code",
   "execution_count": 46,
   "id": "4d46c95e-a5b3-460c-a0e2-aa890cfa3b0d",
   "metadata": {},
   "outputs": [],
   "source": [
    "model.compile(optimizer = 'adam',\n",
    "             loss = loss_fn,\n",
    "             metrics = ['accuracy'])"
   ]
  },
  {
   "cell_type": "markdown",
   "id": "e64e7070-a750-4c78-9e0f-4262deb6107c",
   "metadata": {},
   "source": [
    "### Training and Evaluating my model after compiling"
   ]
  },
  {
   "cell_type": "code",
   "execution_count": 48,
   "id": "d461f10e-9083-4a5d-82b7-ed769e7c9d28",
   "metadata": {},
   "outputs": [
    {
     "name": "stdout",
     "output_type": "stream",
     "text": [
      "Epoch 1/15\n",
      "1875/1875 [==============================] - 3s 2ms/step - loss: 0.0423 - accuracy: 0.9860\n",
      "Epoch 2/15\n",
      "1875/1875 [==============================] - 4s 2ms/step - loss: 0.0381 - accuracy: 0.9876\n",
      "Epoch 3/15\n",
      "1875/1875 [==============================] - 4s 2ms/step - loss: 0.0376 - accuracy: 0.9879\n",
      "Epoch 4/15\n",
      "1875/1875 [==============================] - 3s 2ms/step - loss: 0.0357 - accuracy: 0.9877\n",
      "Epoch 5/15\n",
      "1875/1875 [==============================] - 3s 2ms/step - loss: 0.0334 - accuracy: 0.9886\n",
      "Epoch 6/15\n",
      "1875/1875 [==============================] - 3s 2ms/step - loss: 0.0327 - accuracy: 0.9888\n",
      "Epoch 7/15\n",
      "1875/1875 [==============================] - 4s 2ms/step - loss: 0.0296 - accuracy: 0.9899\n",
      "Epoch 8/15\n",
      "1875/1875 [==============================] - 4s 2ms/step - loss: 0.0304 - accuracy: 0.9896\n",
      "Epoch 9/15\n",
      "1875/1875 [==============================] - 3s 2ms/step - loss: 0.0275 - accuracy: 0.9908\n",
      "Epoch 10/15\n",
      "1875/1875 [==============================] - 3s 2ms/step - loss: 0.0263 - accuracy: 0.9905\n",
      "Epoch 11/15\n",
      "1875/1875 [==============================] - 3s 2ms/step - loss: 0.0266 - accuracy: 0.9905\n",
      "Epoch 12/15\n",
      "1875/1875 [==============================] - 4s 2ms/step - loss: 0.0272 - accuracy: 0.9910\n",
      "Epoch 13/15\n",
      "1875/1875 [==============================] - 3s 2ms/step - loss: 0.0251 - accuracy: 0.9916\n",
      "Epoch 14/15\n",
      "1875/1875 [==============================] - 4s 2ms/step - loss: 0.0248 - accuracy: 0.9912\n",
      "Epoch 15/15\n",
      "1875/1875 [==============================] - 3s 2ms/step - loss: 0.0232 - accuracy: 0.9916\n"
     ]
    },
    {
     "data": {
      "text/plain": [
       "<keras.callbacks.History at 0x20ae23c6d60>"
      ]
     },
     "execution_count": 48,
     "metadata": {},
     "output_type": "execute_result"
    }
   ],
   "source": [
    "model.fit(trainx,trainy,epochs=15)"
   ]
  },
  {
   "cell_type": "markdown",
   "id": "a7baac51-27af-47df-b463-a530bf738754",
   "metadata": {},
   "source": [
    "### Model Validation "
   ]
  },
  {
   "cell_type": "code",
   "execution_count": 49,
   "id": "bb129d70-ad97-4c6b-b280-b4153bebc127",
   "metadata": {},
   "outputs": [
    {
     "name": "stdout",
     "output_type": "stream",
     "text": [
      "313/313 - 1s - loss: 0.0903 - accuracy: 0.9806 - 954ms/epoch - 3ms/step\n"
     ]
    },
    {
     "data": {
      "text/plain": [
       "[0.09029393643140793, 0.9805999994277954]"
      ]
     },
     "execution_count": 49,
     "metadata": {},
     "output_type": "execute_result"
    }
   ],
   "source": [
    "model.evaluate(testx,testy,verbose=2)"
   ]
  },
  {
   "cell_type": "code",
   "execution_count": null,
   "id": "65021321-6623-4feb-81fb-9d4193696033",
   "metadata": {},
   "outputs": [],
   "source": []
  },
  {
   "cell_type": "code",
   "execution_count": null,
   "id": "235157e0-32cb-40b1-acd3-c66df21a89c7",
   "metadata": {},
   "outputs": [],
   "source": []
  }
 ],
 "metadata": {
  "kernelspec": {
   "display_name": "Python 3",
   "language": "python",
   "name": "python3"
  },
  "language_info": {
   "codemirror_mode": {
    "name": "ipython",
    "version": 3
   },
   "file_extension": ".py",
   "mimetype": "text/x-python",
   "name": "python",
   "nbconvert_exporter": "python",
   "pygments_lexer": "ipython3",
   "version": "3.8.8"
  }
 },
 "nbformat": 4,
 "nbformat_minor": 5
}
